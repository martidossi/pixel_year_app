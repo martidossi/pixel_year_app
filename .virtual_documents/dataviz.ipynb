


import seaborn as sns
import numpy as np
import pandas as pd
import matplotlib.pyplot as plt
import yaml
import sys
import plotly.express as px
from pywaffle import Waffle
from annotated_text import annotation


sys.path.insert(0, "./portfolio")

import streamlit as st
from streamlit_gsheets import GSheetsConnection
conn = st.connection("gsheets", type=GSheetsConnection)





sys.path.insert(0, "./portfolio")
with open("config.yml", 'r') as f:
    cfg = yaml.safe_load(f)

dict_emotion_id = cfg['map_emotion_id']
dict_emotion_color = cfg['map_emotion_color']

# dict_emotion_id_inv = {v: k for k, v in dict_emotion_id.items()}

dict_emotion_intensity_id = cfg['map_emotion_intensity_id']
dict_emotion_intensity_color = cfg['map_emotion_intensity_color']


df_emotion = conn.read(
    worksheet="pixel_year",
    ttl="10m",
    usecols=range(13),
    nrows=31
)

df_emotion = df_emotion.rename(columns={df_emotion.columns[0]: 'id_day'})
df_emotion = df_emotion.set_index('id_day')
df_emotion = df_emotion.fillna('0')

df_emotion.head(5)


df_intensity = conn.read(
    worksheet="pixel_year_intensity",
    ttl="10m",
    usecols=range(13),
    nrows=31
)

first_col = df_intensity.columns[0]
df_intensity = df_intensity.rename(columns={first_col: 'id_day'})
df_intensity = df_intensity.set_index('id_day')
df_intensity = df_intensity.fillna('0')

df_intensity.head(5)








# Replace str valeus with numerical ids
df_emotion_id = df_emotion.copy()

df_emotion_id = (
    pd.DataFrame([df_emotion_id[col].map(dict_emotion_id) for col in df_emotion_id.columns])
    .transpose()
    .fillna(0)
    .astype(int)
)

df_emotion_id.head(5)


fig, ax = plt.subplots(figsize=(10, 10))
ax = sns.heatmap(
    df_emotion_id.transpose(),
    cmap=list(dict_emotion_color.values()),
    cbar=False,
    linewidths=1.2,
    linecolor='white',
    square=True,
    vmin=0,
    vmax=len(dict_emotion_color),
    xticklabels=1,
    ax=ax
)

ax.set_yticklabels(labels=['J', 'F', 'M', 'A', 'M', 'J', 'J', 'A', 'S', 'O', 'N', 'D'], rotation=0, fontsize=8)
ax.set_xticklabels(labels=list(df_emotion_id.index), rotation=0, fontsize=8)
ax.set_xlabel('')

plt.show()








df_intensity_id = df_intensity.copy()

df_intensity_id = (
    pd.DataFrame([df_intensity_id[col].map(dict_emotion_intensity_id) for col in df_intensity_id.columns])
    .transpose()
    .fillna(0)
    .astype(int)
)

df_intensity_id.head(5)


labels = df_intensity.transpose().replace('0', '').replace('Missing', '')


fig, ax = plt.subplots(figsize=(10, 10))
ax = sns.heatmap(
    df_intensity_id.transpose(),
    cmap=list(dict_emotion_intensity_color.values()),
    cbar=False,
    linewidths=1.2,
    linecolor='white',
    square=True,
    vmin=0,
    #annot=df_intensity_id.transpose(),
    annot=labels,
    fmt='',
    vmax=len(dict_emotion_intensity_color),
    xticklabels=1,
    ax=ax
)

ax.set_yticklabels(labels=['J', 'F', 'M', 'A', 'M', 'J', 'J', 'A', 'S', 'O', 'N', 'D'], rotation=0, fontsize=8)
ax.set_xticklabels(labels=list(df_emotion_id.index), rotation=0, fontsize=8)
ax.set_xlabel('')

plt.show()





df_melt = pd.melt(df_emotion)
df_melt = df_melt[(df_melt['value']!='0') & (df_melt['value']!='Missing')]
df_melt.columns = ['month', 'emotion']
df_melt['day'] = df_melt.groupby(['month']).cumcount()+1
df_melt.head(5)


df_count = df_melt[['month', 'emotion']].value_counts().reset_index().rename(columns={0: 'value'})
df_count.head(5)


month_list = list(df_emotion.columns)
emotion_list = list(dict_emotion_color.keys())[2:]
len(emotion_list)*len(month_list)


from itertools import product

df_month_emotion_base = pd.DataFrame(data=product(month_list, emotion_list), columns=['month', 'emotion'])
df_month_emotion_base['value'] = 0
df_month_emotion_base.shape


df_month_emotion_base.head(5)


df_month_emotion = pd.merge(df_month_emotion_base, df_count, how='left', left_on=['month', 'emotion'], right_on = ['month', 'emotion']).fillna(0)
df_month_emotion['value'] = df_month_emotion.value_y.combine_first(df_month_emotion.value_x)
df_month_emotion = df_month_emotion.drop(['value_x', 'value_y'], axis=1)
df_month_emotion.head(5)


df_month_emotion.shape








# default
sel_status = 'All'
# sel_status = ['Happy', 'Loved']

config = {'displayModeBar': False}
fig = px.line(
    df_month_emotion,
    x="month",
    y="value",
    color='emotion',
    color_discrete_map=dict_emotion_color,
    template='simple_white'
)
if sel_status!='All':
    for d in fig['data']:
        if d['name'] in sel_status:
            d['line']['color']=dict_emotion_color[d['name']]
            d['line']['width']=3
        if d['name'] not in sel_status:
            d['line']['color']='lightgrey'
fig.update_layout(
    font=dict(
        family="Roboto",
        size=12
    ),
    xaxis_title='',
    yaxis_title='number of days',
    xaxis=dict(showgrid=True, tickcolor='black', title_font_color='black'), 
    yaxis=dict(showgrid=True)
)
fig.update_xaxes(showline=True, linewidth=1, linecolor='black')
fig.update_yaxes(showline=True, linewidth=1, linecolor='black')
fig.show(config=config)





df_n_days = df_month_emotion.groupby('emotion').agg({'value': sum}).reindex(emotion_list).reset_index()
df_n_days


positive_emotion_list = emotion_list[:4]
negative_emotion_list = emotion_list[4:]


df_n_days['value'].max()


df_n_days_pos = df_n_days[df_n_days.emotion.isin(positive_emotion_list)]
df_n_days_neg = df_n_days[df_n_days.emotion.isin(negative_emotion_list)]


df_n_days_pos


df_n_days_neg['value_correct'] = list(df_n_days_pos['value'])
df_n_days_neg


df_n_days_pos = df_n_days[df_n_days.emotion.isin(positive_emotion_list)]
df_n_days_neg = df_n_days[df_n_days.emotion.isin(negative_emotion_list)]
fig = px.bar(
    df_n_days_neg.sort_values(by='value', ascending=False),
    x="value",
    y="emotion",
    color="emotion",
    color_discrete_map=dict_emotion_color,
    orientation='h',
    #hover_data=["tip", "size"],
    height=400,
    width=500,
    template='simple_white'
)
fig.update_layout(
    font=dict(
        family="Roboto",
        size=12
    ),
    xaxis_title='number of days',
    yaxis_title='',
    xaxis=dict(showgrid=True, tickcolor='black', title_font_color='black'), 
    yaxis=dict(showgrid=True),
    showlegend=False
)
fig.show()


df_example = pd.pivot_table(df_month_emotion, index='month', columns='emotion', values='value')[emotion_list].reindex(month_list)


df_n_days['perc_value'] = round(100*df_n_days.value/df_n_days.value.sum()).astype(int)
df_n_days['emotion_type'] = list(np.repeat('positive emotion', 4)) + list(np.repeat('negative emotion', 4))
df_n_days


df_waffle = df_n_days.sort_values(by=['emotion_type', 'perc_value'], ascending=[False, False])
waffle_dict = df_waffle.set_index('emotion')[['perc_value']].to_dict()['perc_value']


fig = plt.figure(
    FigureClass=Waffle,
    rows=10,
    columns=10,
    values=waffle_dict,
    colors=list(dict_emotion_color.values())[2:],
    icon_style='solid',
    icon_legend=True,
    icons=['sun', 'sun', 'sun', 'sun', 'cloud-showers-heavy', 'cloud-showers-heavy', 'cloud-showers-heavy', 'cloud-showers-heavy'],
    block_arranging_style='snake',
    legend={
        'labels': [f"{k} ({v}%)" for k, v in waffle_dict.items()],
        'loc': 'upper left',
        'bbox_to_anchor': (1, 1),
        'framealpha': 0
    },
)
#fig.axes[0].get_legend().remove()
plt.show()


dict_emotion_color_extended = dict_emotion_color
dict_emotion_color_extended.update({'(?)': 'lightgray'})
dict_emotion_color_extended


fig = px.treemap(
    df_n_days,
    path=[px.Constant("all"), 'emotion_type', 'emotion'],
    values='value',
    color='emotion',
    color_discrete_map=dict_emotion_color_extended
)
fig.update_traces(marker=dict(cornerradius=10))
fig.data[0].hovertemplate = '%{label}<br>number of days: %{value}'
fig.show()


old_labels=fig.data[0].labels
new_labels=[f"{ol}%"  for ol  in old_labels[:-10]]
new_labels





df


df_month_emotion


fig = px.bar(
    df_month_emotion,
    x="month",
    y="value",
    color="emotion",
    color_discrete_map=dict_emotion_color,
    template="simple_white"
)
fig.update_layout(
    font=dict(
        family="Roboto",
        size=12,
    ),
    legend_title_font_color="black",
    height=400,
    xaxis_title="",
    yaxis_title="number of days",
    xaxis=dict(showgrid=True, tickcolor='black', color='black'),
    yaxis=dict(showgrid=True, tickcolor='black', color='black')
)
fig.update_xaxes(showline=True, linewidth=1, linecolor='black')
fig.update_yaxes(showline=True, linewidth=1, linecolor='black')
fig.show()


fig = px.bar_polar(
    df_month_emotion,
    r="value",
    theta="month",
    color="emotion",
    color_discrete_map=dict_emotion_color,
    template=None
)
fig.update_layout(
    font=dict(
        family="Roboto",
        size=12
    ),
    polar=dict(
        bgcolor="white",
        radialaxis = dict(
            gridcolor='lightgray',
            griddash='dot'
            ),
        angularaxis = dict(
            linecolor='black',
            gridcolor='gray',
        )
    ),
)
fig.show()


px.colors.sequential.Plasma_r


df = px.data.wind()
fig = px.bar_polar(df, r="frequency", theta="direction", color="strength",
                   color_discrete_sequence= px.colors.sequential.Plasma_r,
                   title="Part of a continuous color scale used as a discrete sequence"
                  )
fig.show()





df_all['emotion'].value_counts()


df_month_emotion = pd.DataFrame(df_all[['month', 'emotion']].value_counts().sort_index()).reset_index()
df_month_emotion.columns = ['month', 'emotion', 'count']


df_month_emotion_pivot = pd.pivot_table(df_month_emotion, values='count', index='month', columns='emotion').fillna(0)
df_month_emotion_pivot = df_month_emotion_pivot.reindex(['January', 'February', 'March', 'April'])
df_month_emotion_pivot






