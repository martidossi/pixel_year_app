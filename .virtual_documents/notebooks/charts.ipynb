


import seaborn as sns
import numpy as np
import pandas as pd
import matplotlib.pyplot as plt


import streamlit as st
from streamlit_gsheets import GSheetsConnection
conn = st.connection("gsheets", type=GSheetsConnection)


data = conn.read(
    worksheet="pixel_year",
    ttl="10m",
    usecols=range(13),
    nrows=31
)
first_col = data.columns[0]
data = data.rename(columns={first_col: 'id_day'})
data = data.set_index('id_day')
data = data.fillna('0')


data.head()


col_hex = sns.color_palette("Set2", 8).as_hex()
col_hex


for el in col_hex:
    print(el)


pixel_val_map = {
    '0': 0,
    'Missing': 1,
    'Happy': 2,
    'Normal': 3, 
    'Relaxed': 4,
    'Sad': 5,
    'Excited': 6
}

pixel_col_map = {
    '0': '#b3b3b3',
    'Missing': '#000000',
    'Happy': '#ffd92f',
    'Normal': '#fc8d62', 
    'Relaxed': '#66c2a5',
    'Sad': '#8da0cb',
    'Excited': '#e78ac3'
}


list(pixel_col_map.values())


for col in data.columns:
    data[col] = data[col].map(pixel_val_map)


fig, ax = plt.subplots(1, 1, figsize=(10,10))
sns.heatmap(
    data.transpose(),
    cmap=list(pixel_col_map.values()),
    cbar=False,
    linewidths=1,
    linecolor='white',
    square=True,
    xticklabels=1,
    ax=ax
)
ax.set_xticklabels(labels=list(data.index), rotation=0, fontsize=8)
ax.set_xlabel('Day')
plt.show()


ax = sns.heatmap(uniform_data, vmin=0, vmax=1)
plt.yticks(rotation=0)
ax.xaxis.tick_top() # x axis on top
ax.xaxis.set_label_position('top')
plt.show()


fig, ax = plt.subplots(1, 1, figsize=(10,10))
sns.heatmap(
    data,
    cmap=list(pixel_col_map.values()),
    cbar=False,
    linewidths=1,
    linecolor='white',
    square=True,
    xticklabels=1,
    ax=ax
)
ax.xaxis.tick_top() # x axis on top
ax.xaxis.set_label_position('top')
ax.set_xticklabels(labels=list(data.columns), rotation=90, fontsize=10)
ax.set_yticklabels(labels=list(data.index), rotation=0, fontsize=8)
ax.set_ylabel('')
plt.show()


data






