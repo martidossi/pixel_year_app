import plotly.graph_objects as go
import pandas as pd
import numpy as np
import yaml


sys.path.insert(0, "./portfolio")

import streamlit as st
from streamlit_gsheets import GSheetsConnection
conn = st.connection("gsheets", type=GSheetsConnection)


sys.path.insert(0, "./portfolio")
with open("../config.yml", 'r') as f:
    cfg = yaml.safe_load(f)

dict_emotion_id = cfg['map_emotion_id']
dict_emotion_color = cfg['map_emotion_color']

# dict_emotion_id_inv = {v: k for k, v in dict_emotion_id.items()}

dict_emotion_intensity_id = cfg['map_emotion_intensity_id']
dict_emotion_intensity_color = cfg['map_emotion_intensity_color']


# Sample data: 12 months, 31 days
months = np.tile(np.arange(1, 13), 31)
days = np.repeat(np.arange(1, 32), 12)

# Randomly generate some color and size data
color_data = np.random.rand(372)  # Random values for color
size_data = np.random.randint(10, 30, size=372)  # Random values for size

# Create DataFrame
df = pd.DataFrame({'month': months, 'day': days, 'color': color_data, 'size': size_data})


np.random.rand(20)


import plotly.graph_objects as go
import numpy as np
import pandas as pd

# Sample DataFrame (assuming df is already created)
df = pd.DataFrame({
    'day': np.random.randint(1, 32, 372),  # Random days for the 12x31 grid
    'month': np.random.randint(1, 13, 372),  # Random months for the grid
    'color': np.random.rand(372),  # Random color values
    'size': np.random.randint(10, 30, 372)  # Random size values
})

fig = go.Figure()

# Scatter plot: main grid of dots
fig.add_trace(go.Scatter(
    x=df['month'],  # Now 'month' is on the x-axis
    y=df['day'],  # Now 'day' is on the y-axis
    mode='markers',
    marker=dict(
        color=df['color'],  # Color by the 'color' column
        size=df['size'],  # Size by the 'size' column
        showscale=False,  # Do not display color scale
    ),
    name='Pixel Year'
))

# Additional scatter plot with different shape
additional_data = np.random.rand(20)  # Random data for additional scatter

fig.add_trace(go.Scatter(
    x=np.random.randint(1, 13, 20),  # Random months now on x-axis
    y=np.random.randint(1, 32, 20),  # Random days now on y-axis
    mode='markers',
    marker=dict(
        color=additional_data,  # Random color for additional points
        size=12,  # Fixed size for additional points
        symbol='cross',  # Different shape
        line=dict(width=1, color='black')  # Outline for visibility
    ),
    name='Movies'
))

# Update layout with reversed axes
fig.update_layout(
    width=800,  # Set the width of the plot
    height=1000,  # Set the height of the plot
    xaxis=dict(
        tick0=1,  # Start from 1
        dtick=1,  # Every tick represents one month
        tickvals=np.arange(1, 13),  # Tick labels for months
        ticktext=['J', 'F', 'M', 'A', 'M', 'J', 'J', 'A', 'S', 'O', 'N', 'D'],  # Abbreviated month names
        showgrid=True,  # Show grid lines for x-axis
        tickangle=0,
        side='top'  # Position the x-axis labels at the top
    ),
    yaxis=dict(
        tickvals=np.arange(1, 32),  # Tick labels for days
        showgrid=True,  # Show grid lines for y-axis
    ),
    template="simple_white"
)

# Show the plot
fig.show()


import random
random.sample([0,1], 100)


np.random.choice([0, 1], size=(10,))



