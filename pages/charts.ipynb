{
 "cells": [
  {
   "cell_type": "code",
   "execution_count": 1,
   "id": "0ff3ae7b-b19b-486e-a2b8-cf4b91db28c1",
   "metadata": {},
   "outputs": [],
   "source": [
    "import seaborn as sns\n",
    "import numpy as np\n",
    "import pandas as pd\n",
    "import matplotlib.pyplot as plt"
   ]
  },
  {
   "cell_type": "code",
   "execution_count": 26,
   "id": "cd943240-e4a8-41fe-a667-8f2f0b30cc26",
   "metadata": {},
   "outputs": [],
   "source": [
    "import streamlit as st"
   ]
  },
  {
   "cell_type": "code",
   "execution_count": 97,
   "id": "2b66b1cd-b43a-4d94-a0bf-1cb8c8eddd0d",
   "metadata": {},
   "outputs": [
    {
     "name": "stderr",
     "output_type": "stream",
     "text": [
      "2023-12-24 23:47:26.890 No runtime found, using MemoryCacheStorageManager\n"
     ]
    }
   ],
   "source": [
    "from streamlit_gsheets import GSheetsConnection\n",
    "conn = st.connection(\"gsheets\", type=GSheetsConnection)\n",
    "\n",
    "data = conn.read(\n",
    "    worksheet=\"2024_pixel\",\n",
    "    ttl=\"10m\",\n",
    "    usecols=range(13),\n",
    "    nrows=31\n",
    ")\n",
    "first_col = data.columns[0]\n",
    "data = data.rename(columns={first_col: 'id_day'})\n",
    "data = data.set_index('id_day')\n",
    "data = data.fillna('0')"
   ]
  },
  {
   "cell_type": "code",
   "execution_count": 100,
   "id": "ac0cff81-a595-4c6b-a18a-e0cac553c1f8",
   "metadata": {},
   "outputs": [
    {
     "data": {
      "text/html": [
       "<div>\n",
       "<style scoped>\n",
       "    .dataframe tbody tr th:only-of-type {\n",
       "        vertical-align: middle;\n",
       "    }\n",
       "\n",
       "    .dataframe tbody tr th {\n",
       "        vertical-align: top;\n",
       "    }\n",
       "\n",
       "    .dataframe thead th {\n",
       "        text-align: right;\n",
       "    }\n",
       "</style>\n",
       "<table border=\"1\" class=\"dataframe\">\n",
       "  <thead>\n",
       "    <tr style=\"text-align: right;\">\n",
       "      <th></th>\n",
       "      <th>January</th>\n",
       "      <th>February</th>\n",
       "      <th>March</th>\n",
       "      <th>April</th>\n",
       "      <th>May</th>\n",
       "      <th>June</th>\n",
       "      <th>July</th>\n",
       "      <th>August</th>\n",
       "      <th>September</th>\n",
       "      <th>October</th>\n",
       "      <th>November</th>\n",
       "      <th>December</th>\n",
       "    </tr>\n",
       "    <tr>\n",
       "      <th>id_day</th>\n",
       "      <th></th>\n",
       "      <th></th>\n",
       "      <th></th>\n",
       "      <th></th>\n",
       "      <th></th>\n",
       "      <th></th>\n",
       "      <th></th>\n",
       "      <th></th>\n",
       "      <th></th>\n",
       "      <th></th>\n",
       "      <th></th>\n",
       "      <th></th>\n",
       "    </tr>\n",
       "  </thead>\n",
       "  <tbody>\n",
       "    <tr>\n",
       "      <th>1</th>\n",
       "      <td>Relaxed</td>\n",
       "      <td>Normal</td>\n",
       "      <td>Normal</td>\n",
       "      <td>Normal</td>\n",
       "      <td>Normal</td>\n",
       "      <td>Normal</td>\n",
       "      <td>Normal</td>\n",
       "      <td>Normal</td>\n",
       "      <td>Normal</td>\n",
       "      <td>Normal</td>\n",
       "      <td>Normal</td>\n",
       "      <td>Normal</td>\n",
       "    </tr>\n",
       "    <tr>\n",
       "      <th>2</th>\n",
       "      <td>0</td>\n",
       "      <td>Excited</td>\n",
       "      <td>0</td>\n",
       "      <td>0</td>\n",
       "      <td>0</td>\n",
       "      <td>0</td>\n",
       "      <td>0</td>\n",
       "      <td>0</td>\n",
       "      <td>0</td>\n",
       "      <td>0</td>\n",
       "      <td>0</td>\n",
       "      <td>0</td>\n",
       "    </tr>\n",
       "    <tr>\n",
       "      <th>3</th>\n",
       "      <td>0</td>\n",
       "      <td>Happy</td>\n",
       "      <td>0</td>\n",
       "      <td>0</td>\n",
       "      <td>0</td>\n",
       "      <td>0</td>\n",
       "      <td>0</td>\n",
       "      <td>0</td>\n",
       "      <td>0</td>\n",
       "      <td>0</td>\n",
       "      <td>0</td>\n",
       "      <td>0</td>\n",
       "    </tr>\n",
       "    <tr>\n",
       "      <th>4</th>\n",
       "      <td>0</td>\n",
       "      <td>0</td>\n",
       "      <td>0</td>\n",
       "      <td>0</td>\n",
       "      <td>0</td>\n",
       "      <td>0</td>\n",
       "      <td>0</td>\n",
       "      <td>0</td>\n",
       "      <td>0</td>\n",
       "      <td>0</td>\n",
       "      <td>0</td>\n",
       "      <td>0</td>\n",
       "    </tr>\n",
       "    <tr>\n",
       "      <th>5</th>\n",
       "      <td>0</td>\n",
       "      <td>0</td>\n",
       "      <td>0</td>\n",
       "      <td>0</td>\n",
       "      <td>0</td>\n",
       "      <td>0</td>\n",
       "      <td>0</td>\n",
       "      <td>0</td>\n",
       "      <td>0</td>\n",
       "      <td>0</td>\n",
       "      <td>0</td>\n",
       "      <td>0</td>\n",
       "    </tr>\n",
       "  </tbody>\n",
       "</table>\n",
       "</div>"
      ],
      "text/plain": [
       "        January February   March   April     May    June    July  August  \\\n",
       "id_day                                                                     \n",
       "1       Relaxed   Normal  Normal  Normal  Normal  Normal  Normal  Normal   \n",
       "2             0  Excited       0       0       0       0       0       0   \n",
       "3             0    Happy       0       0       0       0       0       0   \n",
       "4             0        0       0       0       0       0       0       0   \n",
       "5             0        0       0       0       0       0       0       0   \n",
       "\n",
       "       September October November December  \n",
       "id_day                                      \n",
       "1         Normal  Normal   Normal   Normal  \n",
       "2              0       0        0        0  \n",
       "3              0       0        0        0  \n",
       "4              0       0        0        0  \n",
       "5              0       0        0        0  "
      ]
     },
     "execution_count": 100,
     "metadata": {},
     "output_type": "execute_result"
    }
   ],
   "source": [
    "data.head()"
   ]
  },
  {
   "cell_type": "code",
   "execution_count": 101,
   "id": "0fb55b39-62fa-45a8-bd1a-73829469a551",
   "metadata": {},
   "outputs": [],
   "source": [
    "#data = pd.read_csv('pixel_year - 2024.csv', index_col=0).fillna('Missing')\n",
    "#data.head()"
   ]
  },
  {
   "cell_type": "code",
   "execution_count": 102,
   "id": "513fbf2c-4efb-4968-adcd-9c8b903fa164",
   "metadata": {},
   "outputs": [
    {
     "data": {
      "text/html": [
       "<svg  width=\"440\" height=\"55\"><rect x=\"0\" y=\"0\" width=\"55\" height=\"55\" style=\"fill:#66c2a5;stroke-width:2;stroke:rgb(255,255,255)\"/><rect x=\"55\" y=\"0\" width=\"55\" height=\"55\" style=\"fill:#fc8d62;stroke-width:2;stroke:rgb(255,255,255)\"/><rect x=\"110\" y=\"0\" width=\"55\" height=\"55\" style=\"fill:#8da0cb;stroke-width:2;stroke:rgb(255,255,255)\"/><rect x=\"165\" y=\"0\" width=\"55\" height=\"55\" style=\"fill:#e78ac3;stroke-width:2;stroke:rgb(255,255,255)\"/><rect x=\"220\" y=\"0\" width=\"55\" height=\"55\" style=\"fill:#a6d854;stroke-width:2;stroke:rgb(255,255,255)\"/><rect x=\"275\" y=\"0\" width=\"55\" height=\"55\" style=\"fill:#ffd92f;stroke-width:2;stroke:rgb(255,255,255)\"/><rect x=\"330\" y=\"0\" width=\"55\" height=\"55\" style=\"fill:#e5c494;stroke-width:2;stroke:rgb(255,255,255)\"/><rect x=\"385\" y=\"0\" width=\"55\" height=\"55\" style=\"fill:#b3b3b3;stroke-width:2;stroke:rgb(255,255,255)\"/></svg>"
      ],
      "text/plain": [
       "['#66c2a5',\n",
       " '#fc8d62',\n",
       " '#8da0cb',\n",
       " '#e78ac3',\n",
       " '#a6d854',\n",
       " '#ffd92f',\n",
       " '#e5c494',\n",
       " '#b3b3b3']"
      ]
     },
     "execution_count": 102,
     "metadata": {},
     "output_type": "execute_result"
    }
   ],
   "source": [
    "col_hex = sns.color_palette(\"Set2\", 8).as_hex()\n",
    "col_hex"
   ]
  },
  {
   "cell_type": "code",
   "execution_count": 103,
   "id": "9f4a857c-7e48-4260-bb8e-ae7757406350",
   "metadata": {},
   "outputs": [
    {
     "name": "stdout",
     "output_type": "stream",
     "text": [
      "#66c2a5\n",
      "#fc8d62\n",
      "#8da0cb\n",
      "#e78ac3\n",
      "#a6d854\n",
      "#ffd92f\n",
      "#e5c494\n",
      "#b3b3b3\n"
     ]
    }
   ],
   "source": [
    "for el in col_hex:\n",
    "    print(el)"
   ]
  },
  {
   "cell_type": "code",
   "execution_count": 104,
   "id": "713a96c1-bc01-45cd-951a-c8f787895e0a",
   "metadata": {},
   "outputs": [],
   "source": [
    "pixel_val_map = {\n",
    "    '0': 0,\n",
    "    'Missing': 1,\n",
    "    'Happy': 2,\n",
    "    'Normal': 3, \n",
    "    'Relaxed': 4,\n",
    "    'Sad': 5,\n",
    "    'Excited': 6\n",
    "}\n",
    "\n",
    "pixel_col_map = {\n",
    "    '0': '#b3b3b3',\n",
    "    'Missing': '#000000',\n",
    "    'Happy': '#ffd92f',\n",
    "    'Normal': '#fc8d62', \n",
    "    'Relaxed': '#66c2a5',\n",
    "    'Sad': '#8da0cb',\n",
    "    'Excited': '#e78ac3'\n",
    "}"
   ]
  },
  {
   "cell_type": "code",
   "execution_count": 105,
   "id": "45d428e9-825d-41c3-bb01-e824b7c7a693",
   "metadata": {},
   "outputs": [
    {
     "data": {
      "text/plain": [
       "['#b3b3b3', '#000000', '#ffd92f', '#fc8d62', '#66c2a5', '#8da0cb', '#e78ac3']"
      ]
     },
     "execution_count": 105,
     "metadata": {},
     "output_type": "execute_result"
    }
   ],
   "source": [
    "list(pixel_col_map.values())"
   ]
  },
  {
   "cell_type": "code",
   "execution_count": 106,
   "id": "9be05fa3-a477-4b80-8948-f20e2beab6dd",
   "metadata": {},
   "outputs": [],
   "source": [
    "for col in data.columns:\n",
    "    data[col] = data[col].map(pixel_val_map)"
   ]
  },
  {
   "cell_type": "code",
   "execution_count": 110,
   "id": "7f37664f-18b9-41c0-80e7-ce72ebf153a1",
   "metadata": {},
   "outputs": [
    {
     "data": {
      "image/png": "[encoded data removed]",
      "text/plain": [
       "<Figure size 1000x1000 with 1 Axes>"
      ]
     },
     "metadata": {},
     "output_type": "display_data"
    }
   ],
   "source": [
    "fig, ax = plt.subplots(1, 1, figsize=(10,10))\n",
    "sns.heatmap(\n",
    "    data.transpose(),\n",
    "    cmap=list(pixel_col_map.values()),\n",
    "    cbar=False,\n",
    "    linewidths=1,\n",
    "    linecolor='white',\n",
    "    square=True,\n",
    "    xticklabels=1,\n",
    "    ax=ax\n",
    ")\n",
    "ax.set_xticklabels(labels=list(data.index), rotation=0, fontsize=8)\n",
    "ax.set_xlabel('Day')\n",
    "plt.show()"
   ]
  },
  {
   "cell_type": "code",
   "execution_count": null,
   "id": "64db486d-5448-4b95-bf42-5412852b9822",
   "metadata": {},
   "outputs": [],
   "source": []
  }
 ],
 "metadata": {
  "kernelspec": {
   "display_name": "skill_map_39",
   "language": "python",
   "name": "myenv"
  },
  "language_info": {
   "codemirror_mode": {
    "name": "ipython",
    "version": 3
   },
   "file_extension": ".py",
   "mimetype": "text/x-python",
   "name": "python",
   "nbconvert_exporter": "python",
   "pygments_lexer": "ipython3",
   "version": "3.9.13"
  }
 },
 "nbformat": 4,
 "nbformat_minor": 5
}
