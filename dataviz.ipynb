{
 "cells": [
  {
   "cell_type": "markdown",
   "id": "1a7aaed1-7548-436b-8103-5f48fe3c31da",
   "metadata": {},
   "source": [
    "# Visualizations"
   ]
  },
  {
   "cell_type": "code",
   "execution_count": 110,
   "id": "218d3306-50a0-4a01-a67d-4aa2aea7f0cc",
   "metadata": {
    "tags": []
   },
   "outputs": [],
   "source": [
    "import seaborn as sns\n",
    "import numpy as np\n",
    "import pandas as pd\n",
    "import matplotlib.pyplot as plt\n",
    "import yaml\n",
    "import sys"
   ]
  },
  {
   "cell_type": "code",
   "execution_count": 111,
   "id": "a6b6e975-8ef2-434b-b320-59986134132c",
   "metadata": {
    "tags": []
   },
   "outputs": [],
   "source": [
    "sys.path.insert(0, \"./portfolio\")\n",
    "\n",
    "import streamlit as st\n",
    "from streamlit_gsheets import GSheetsConnection\n",
    "conn = st.connection(\"gsheets\", type=GSheetsConnection)"
   ]
  },
  {
   "cell_type": "markdown",
   "id": "05eacb67-5652-4b9a-a538-9feb4608b2c0",
   "metadata": {
    "tags": []
   },
   "source": [
    "## Set up"
   ]
  },
  {
   "cell_type": "code",
   "execution_count": 112,
   "id": "6dbbe9df-d3a6-470e-bf57-1c2056b27b07",
   "metadata": {
    "tags": []
   },
   "outputs": [],
   "source": [
    "sys.path.insert(0, \"./portfolio\")\n",
    "with open(\"config.yml\", 'r') as f:\n",
    "    cfg = yaml.safe_load(f)\n",
    "\n",
    "dict_emotion_id = cfg['map_emotion_id']\n",
    "dict_emotion_color = cfg['map_emotion_color']\n",
    "\n",
    "# dict_emotion_id_inv = {v: k for k, v in dict_emotion_id.items()}\n",
    "\n",
    "dict_emotion_intensity_id = cfg['map_emotion_intensity_id']\n",
    "dict_emotion_intensity_color = cfg['map_emotion_intensity_color']"
   ]
  },
  {
   "cell_type": "code",
   "execution_count": 124,
   "id": "16b99ea4-048d-4186-9796-d7bba4096704",
   "metadata": {
    "tags": []
   },
   "outputs": [
    {
     "name": "stderr",
     "output_type": "stream",
     "text": [
      "2024-05-05 10:21:51.047 No runtime found, using MemoryCacheStorageManager\n"
     ]
    },
    {
     "data": {
      "text/html": [
       "<div>\n",
       "<style scoped>\n",
       "    .dataframe tbody tr th:only-of-type {\n",
       "        vertical-align: middle;\n",
       "    }\n",
       "\n",
       "    .dataframe tbody tr th {\n",
       "        vertical-align: top;\n",
       "    }\n",
       "\n",
       "    .dataframe thead th {\n",
       "        text-align: right;\n",
       "    }\n",
       "</style>\n",
       "<table border=\"1\" class=\"dataframe\">\n",
       "  <thead>\n",
       "    <tr style=\"text-align: right;\">\n",
       "      <th></th>\n",
       "      <th>January</th>\n",
       "      <th>February</th>\n",
       "      <th>March</th>\n",
       "      <th>April</th>\n",
       "      <th>May</th>\n",
       "      <th>June</th>\n",
       "      <th>July</th>\n",
       "      <th>August</th>\n",
       "      <th>September</th>\n",
       "      <th>October</th>\n",
       "      <th>November</th>\n",
       "      <th>December</th>\n",
       "    </tr>\n",
       "    <tr>\n",
       "      <th>id_day</th>\n",
       "      <th></th>\n",
       "      <th></th>\n",
       "      <th></th>\n",
       "      <th></th>\n",
       "      <th></th>\n",
       "      <th></th>\n",
       "      <th></th>\n",
       "      <th></th>\n",
       "      <th></th>\n",
       "      <th></th>\n",
       "      <th></th>\n",
       "      <th></th>\n",
       "    </tr>\n",
       "  </thead>\n",
       "  <tbody>\n",
       "    <tr>\n",
       "      <th>1</th>\n",
       "      <td>Happy</td>\n",
       "      <td>Happy</td>\n",
       "      <td>Happy</td>\n",
       "      <td>Loved</td>\n",
       "      <td>Happy</td>\n",
       "      <td>0</td>\n",
       "      <td>0</td>\n",
       "      <td>0</td>\n",
       "      <td>0</td>\n",
       "      <td>0</td>\n",
       "      <td>0</td>\n",
       "      <td>0</td>\n",
       "    </tr>\n",
       "    <tr>\n",
       "      <th>2</th>\n",
       "      <td>Happy</td>\n",
       "      <td>Happy</td>\n",
       "      <td>Happy</td>\n",
       "      <td>Sad</td>\n",
       "      <td>Happy</td>\n",
       "      <td>0</td>\n",
       "      <td>0</td>\n",
       "      <td>0</td>\n",
       "      <td>0</td>\n",
       "      <td>0</td>\n",
       "      <td>0</td>\n",
       "      <td>0</td>\n",
       "    </tr>\n",
       "    <tr>\n",
       "      <th>3</th>\n",
       "      <td>Scared</td>\n",
       "      <td>Sad</td>\n",
       "      <td>Happy</td>\n",
       "      <td>Confident</td>\n",
       "      <td>Happy</td>\n",
       "      <td>0</td>\n",
       "      <td>0</td>\n",
       "      <td>0</td>\n",
       "      <td>0</td>\n",
       "      <td>0</td>\n",
       "      <td>0</td>\n",
       "      <td>0</td>\n",
       "    </tr>\n",
       "    <tr>\n",
       "      <th>4</th>\n",
       "      <td>Scared</td>\n",
       "      <td>Sad</td>\n",
       "      <td>Happy</td>\n",
       "      <td>Scared</td>\n",
       "      <td>Happy</td>\n",
       "      <td>0</td>\n",
       "      <td>0</td>\n",
       "      <td>0</td>\n",
       "      <td>0</td>\n",
       "      <td>0</td>\n",
       "      <td>0</td>\n",
       "      <td>0</td>\n",
       "    </tr>\n",
       "    <tr>\n",
       "      <th>5</th>\n",
       "      <td>Happy</td>\n",
       "      <td>Scared</td>\n",
       "      <td>Sad</td>\n",
       "      <td>Happy</td>\n",
       "      <td>0</td>\n",
       "      <td>0</td>\n",
       "      <td>0</td>\n",
       "      <td>0</td>\n",
       "      <td>0</td>\n",
       "      <td>0</td>\n",
       "      <td>0</td>\n",
       "      <td>0</td>\n",
       "    </tr>\n",
       "  </tbody>\n",
       "</table>\n",
       "</div>"
      ],
      "text/plain": [
       "       January February  March      April    May June July August September  \\\n",
       "id_day                                                                        \n",
       "1        Happy    Happy  Happy      Loved  Happy    0    0      0         0   \n",
       "2        Happy    Happy  Happy        Sad  Happy    0    0      0         0   \n",
       "3       Scared      Sad  Happy  Confident  Happy    0    0      0         0   \n",
       "4       Scared      Sad  Happy     Scared  Happy    0    0      0         0   \n",
       "5        Happy   Scared    Sad      Happy      0    0    0      0         0   \n",
       "\n",
       "       October November December  \n",
       "id_day                            \n",
       "1            0        0        0  \n",
       "2            0        0        0  \n",
       "3            0        0        0  \n",
       "4            0        0        0  \n",
       "5            0        0        0  "
      ]
     },
     "execution_count": 124,
     "metadata": {},
     "output_type": "execute_result"
    }
   ],
   "source": [
    "df_emotion = conn.read(\n",
    "    worksheet=\"pixel_year\",\n",
    "    ttl=\"10m\",\n",
    "    usecols=range(13),\n",
    "    nrows=31\n",
    ")\n",
    "\n",
    "df_emotion = df_emotion.rename(columns={df_emotion.columns[0]: 'id_day'})\n",
    "df_emotion = df_emotion.set_index('id_day')\n",
    "df_emotion = df_emotion.fillna('0')\n",
    "\n",
    "df_emotion.head(5)"
   ]
  },
  {
   "cell_type": "code",
   "execution_count": 132,
   "id": "21d49df2-6c95-46b2-bb42-2eb0cc48691c",
   "metadata": {
    "tags": []
   },
   "outputs": [
    {
     "name": "stderr",
     "output_type": "stream",
     "text": [
      "2024-05-05 10:37:17.394 No runtime found, using MemoryCacheStorageManager\n"
     ]
    },
    {
     "data": {
      "text/html": [
       "<div>\n",
       "<style scoped>\n",
       "    .dataframe tbody tr th:only-of-type {\n",
       "        vertical-align: middle;\n",
       "    }\n",
       "\n",
       "    .dataframe tbody tr th {\n",
       "        vertical-align: top;\n",
       "    }\n",
       "\n",
       "    .dataframe thead th {\n",
       "        text-align: right;\n",
       "    }\n",
       "</style>\n",
       "<table border=\"1\" class=\"dataframe\">\n",
       "  <thead>\n",
       "    <tr style=\"text-align: right;\">\n",
       "      <th></th>\n",
       "      <th>January</th>\n",
       "      <th>February</th>\n",
       "      <th>March</th>\n",
       "      <th>April</th>\n",
       "      <th>May</th>\n",
       "      <th>June</th>\n",
       "      <th>July</th>\n",
       "      <th>August</th>\n",
       "      <th>September</th>\n",
       "      <th>October</th>\n",
       "      <th>November</th>\n",
       "      <th>December</th>\n",
       "    </tr>\n",
       "    <tr>\n",
       "      <th>id_day</th>\n",
       "      <th></th>\n",
       "      <th></th>\n",
       "      <th></th>\n",
       "      <th></th>\n",
       "      <th></th>\n",
       "      <th></th>\n",
       "      <th></th>\n",
       "      <th></th>\n",
       "      <th></th>\n",
       "      <th></th>\n",
       "      <th></th>\n",
       "      <th></th>\n",
       "    </tr>\n",
       "  </thead>\n",
       "  <tbody>\n",
       "    <tr>\n",
       "      <th>1</th>\n",
       "      <td>:)</td>\n",
       "      <td>:|</td>\n",
       "      <td>:|</td>\n",
       "      <td>:)</td>\n",
       "      <td>:)</td>\n",
       "      <td>0</td>\n",
       "      <td>0</td>\n",
       "      <td>0</td>\n",
       "      <td>0</td>\n",
       "      <td>0</td>\n",
       "      <td>0</td>\n",
       "      <td>0</td>\n",
       "    </tr>\n",
       "    <tr>\n",
       "      <th>2</th>\n",
       "      <td>:)</td>\n",
       "      <td>:)</td>\n",
       "      <td>:|</td>\n",
       "      <td>:|</td>\n",
       "      <td>:)</td>\n",
       "      <td>0</td>\n",
       "      <td>0</td>\n",
       "      <td>0</td>\n",
       "      <td>0</td>\n",
       "      <td>0</td>\n",
       "      <td>0</td>\n",
       "      <td>0</td>\n",
       "    </tr>\n",
       "    <tr>\n",
       "      <th>3</th>\n",
       "      <td>:|</td>\n",
       "      <td>:|</td>\n",
       "      <td>:|</td>\n",
       "      <td>:|</td>\n",
       "      <td>:|</td>\n",
       "      <td>0</td>\n",
       "      <td>0</td>\n",
       "      <td>0</td>\n",
       "      <td>0</td>\n",
       "      <td>0</td>\n",
       "      <td>0</td>\n",
       "      <td>0</td>\n",
       "    </tr>\n",
       "    <tr>\n",
       "      <th>4</th>\n",
       "      <td>:|</td>\n",
       "      <td>:|</td>\n",
       "      <td>:|</td>\n",
       "      <td>:|</td>\n",
       "      <td>:|</td>\n",
       "      <td>0</td>\n",
       "      <td>0</td>\n",
       "      <td>0</td>\n",
       "      <td>0</td>\n",
       "      <td>0</td>\n",
       "      <td>0</td>\n",
       "      <td>0</td>\n",
       "    </tr>\n",
       "    <tr>\n",
       "      <th>5</th>\n",
       "      <td>:)</td>\n",
       "      <td>:|</td>\n",
       "      <td>:|</td>\n",
       "      <td>:)</td>\n",
       "      <td>0</td>\n",
       "      <td>0</td>\n",
       "      <td>0</td>\n",
       "      <td>0</td>\n",
       "      <td>0</td>\n",
       "      <td>0</td>\n",
       "      <td>0</td>\n",
       "      <td>0</td>\n",
       "    </tr>\n",
       "  </tbody>\n",
       "</table>\n",
       "</div>"
      ],
      "text/plain": [
       "       January February March April May June July August September October  \\\n",
       "id_day                                                                       \n",
       "1           :)       :|    :|    :)  :)    0    0      0         0       0   \n",
       "2           :)       :)    :|    :|  :)    0    0      0         0       0   \n",
       "3           :|       :|    :|    :|  :|    0    0      0         0       0   \n",
       "4           :|       :|    :|    :|  :|    0    0      0         0       0   \n",
       "5           :)       :|    :|    :)   0    0    0      0         0       0   \n",
       "\n",
       "       November December  \n",
       "id_day                    \n",
       "1             0        0  \n",
       "2             0        0  \n",
       "3             0        0  \n",
       "4             0        0  \n",
       "5             0        0  "
      ]
     },
     "execution_count": 132,
     "metadata": {},
     "output_type": "execute_result"
    }
   ],
   "source": [
    "df_intensity = conn.read(\n",
    "    worksheet=\"pixel_year_intensity\",\n",
    "    ttl=\"10m\",\n",
    "    usecols=range(13),\n",
    "    nrows=31\n",
    ")\n",
    "\n",
    "first_col = df_intensity.columns[0]\n",
    "df_intensity = df_intensity.rename(columns={first_col: 'id_day'})\n",
    "df_intensity = df_intensity.set_index('id_day')\n",
    "df_intensity = df_intensity.fillna('0')\n",
    "\n",
    "df_intensity.head(5)"
   ]
  },
  {
   "cell_type": "markdown",
   "id": "65ae2b9b-5c8f-4df5-953d-0ac44079e9d7",
   "metadata": {
    "tags": []
   },
   "source": [
    "## Heatmap"
   ]
  },
  {
   "cell_type": "markdown",
   "id": "f609f333-7b74-43a7-9933-7797e754b98c",
   "metadata": {
    "tags": []
   },
   "source": [
    "### Pixel year"
   ]
  },
  {
   "cell_type": "code",
   "execution_count": 117,
   "id": "b927bca5-d38f-4a28-8631-4c8225974f96",
   "metadata": {
    "tags": []
   },
   "outputs": [
    {
     "data": {
      "text/html": [
       "<div>\n",
       "<style scoped>\n",
       "    .dataframe tbody tr th:only-of-type {\n",
       "        vertical-align: middle;\n",
       "    }\n",
       "\n",
       "    .dataframe tbody tr th {\n",
       "        vertical-align: top;\n",
       "    }\n",
       "\n",
       "    .dataframe thead th {\n",
       "        text-align: right;\n",
       "    }\n",
       "</style>\n",
       "<table border=\"1\" class=\"dataframe\">\n",
       "  <thead>\n",
       "    <tr style=\"text-align: right;\">\n",
       "      <th></th>\n",
       "      <th>January</th>\n",
       "      <th>February</th>\n",
       "      <th>March</th>\n",
       "      <th>April</th>\n",
       "      <th>May</th>\n",
       "      <th>June</th>\n",
       "      <th>July</th>\n",
       "      <th>August</th>\n",
       "      <th>September</th>\n",
       "      <th>October</th>\n",
       "      <th>November</th>\n",
       "      <th>December</th>\n",
       "    </tr>\n",
       "    <tr>\n",
       "      <th>id_day</th>\n",
       "      <th></th>\n",
       "      <th></th>\n",
       "      <th></th>\n",
       "      <th></th>\n",
       "      <th></th>\n",
       "      <th></th>\n",
       "      <th></th>\n",
       "      <th></th>\n",
       "      <th></th>\n",
       "      <th></th>\n",
       "      <th></th>\n",
       "      <th></th>\n",
       "    </tr>\n",
       "  </thead>\n",
       "  <tbody>\n",
       "    <tr>\n",
       "      <th>1</th>\n",
       "      <td>2</td>\n",
       "      <td>2</td>\n",
       "      <td>2</td>\n",
       "      <td>3</td>\n",
       "      <td>2</td>\n",
       "      <td>0</td>\n",
       "      <td>0</td>\n",
       "      <td>0</td>\n",
       "      <td>0</td>\n",
       "      <td>0</td>\n",
       "      <td>0</td>\n",
       "      <td>0</td>\n",
       "    </tr>\n",
       "    <tr>\n",
       "      <th>2</th>\n",
       "      <td>2</td>\n",
       "      <td>2</td>\n",
       "      <td>2</td>\n",
       "      <td>9</td>\n",
       "      <td>2</td>\n",
       "      <td>0</td>\n",
       "      <td>0</td>\n",
       "      <td>0</td>\n",
       "      <td>0</td>\n",
       "      <td>0</td>\n",
       "      <td>0</td>\n",
       "      <td>0</td>\n",
       "    </tr>\n",
       "    <tr>\n",
       "      <th>3</th>\n",
       "      <td>8</td>\n",
       "      <td>9</td>\n",
       "      <td>2</td>\n",
       "      <td>4</td>\n",
       "      <td>2</td>\n",
       "      <td>0</td>\n",
       "      <td>0</td>\n",
       "      <td>0</td>\n",
       "      <td>0</td>\n",
       "      <td>0</td>\n",
       "      <td>0</td>\n",
       "      <td>0</td>\n",
       "    </tr>\n",
       "    <tr>\n",
       "      <th>4</th>\n",
       "      <td>8</td>\n",
       "      <td>9</td>\n",
       "      <td>2</td>\n",
       "      <td>8</td>\n",
       "      <td>2</td>\n",
       "      <td>0</td>\n",
       "      <td>0</td>\n",
       "      <td>0</td>\n",
       "      <td>0</td>\n",
       "      <td>0</td>\n",
       "      <td>0</td>\n",
       "      <td>0</td>\n",
       "    </tr>\n",
       "    <tr>\n",
       "      <th>5</th>\n",
       "      <td>2</td>\n",
       "      <td>8</td>\n",
       "      <td>9</td>\n",
       "      <td>2</td>\n",
       "      <td>0</td>\n",
       "      <td>0</td>\n",
       "      <td>0</td>\n",
       "      <td>0</td>\n",
       "      <td>0</td>\n",
       "      <td>0</td>\n",
       "      <td>0</td>\n",
       "      <td>0</td>\n",
       "    </tr>\n",
       "  </tbody>\n",
       "</table>\n",
       "</div>"
      ],
      "text/plain": [
       "        January  February  March  April  May  June  July  August  September  \\\n",
       "id_day                                                                        \n",
       "1             2         2      2      3    2     0     0       0          0   \n",
       "2             2         2      2      9    2     0     0       0          0   \n",
       "3             8         9      2      4    2     0     0       0          0   \n",
       "4             8         9      2      8    2     0     0       0          0   \n",
       "5             2         8      9      2    0     0     0       0          0   \n",
       "\n",
       "        October  November  December  \n",
       "id_day                               \n",
       "1             0         0         0  \n",
       "2             0         0         0  \n",
       "3             0         0         0  \n",
       "4             0         0         0  \n",
       "5             0         0         0  "
      ]
     },
     "execution_count": 117,
     "metadata": {},
     "output_type": "execute_result"
    }
   ],
   "source": [
    "# Replace str valeus with numerical ids\n",
    "df_emotion_id = df_emotion.copy()\n",
    "\n",
    "df_emotion_id = (\n",
    "    pd.DataFrame([df_emotion_id[col].map(dict_emotion_id) for col in df_emotion_id.columns])\n",
    "    .transpose()\n",
    "    .fillna(0)\n",
    "    .astype(int)\n",
    ")\n",
    "\n",
    "df_emotion_id.head(5)"
   ]
  },
  {
   "cell_type": "code",
   "execution_count": 118,
   "id": "1b67da75-b2e3-416b-8b61-aa1ad440648a",
   "metadata": {
    "tags": []
   },
   "outputs": [
    {
     "data": {
      "image/png": "[encoded data removed]",
      "text/plain": [
       "<Figure size 1000x1000 with 1 Axes>"
      ]
     },
     "metadata": {},
     "output_type": "display_data"
    }
   ],
   "source": [
    "fig, ax = plt.subplots(figsize=(10, 10))\n",
    "ax = sns.heatmap(\n",
    "    df_emotion_id.transpose(),\n",
    "    cmap=list(dict_emotion_color.values()),\n",
    "    cbar=False,\n",
    "    linewidths=1.2,\n",
    "    linecolor='white',\n",
    "    square=True,\n",
    "    vmin=0,\n",
    "    vmax=len(dict_emotion_color),\n",
    "    xticklabels=1,\n",
    "    ax=ax\n",
    ")\n",
    "\n",
    "ax.set_yticklabels(labels=['J', 'F', 'M', 'A', 'M', 'J', 'J', 'A', 'S', 'O', 'N', 'D'], rotation=0, fontsize=8)\n",
    "ax.set_xticklabels(labels=list(df_emotion_id.index), rotation=0, fontsize=8)\n",
    "ax.set_xlabel('')\n",
    "\n",
    "plt.show()"
   ]
  },
  {
   "cell_type": "markdown",
   "id": "66dee8c1-2904-4d65-b323-865b09c9a408",
   "metadata": {
    "tags": []
   },
   "source": [
    "### Pixel year intensity"
   ]
  },
  {
   "cell_type": "raw",
   "id": "74da8745-ce75-499e-a561-707cffe77fac",
   "metadata": {
    "tags": []
   },
   "source": [
    "from pylab import *\n",
    "\n",
    "cmap = cm.get_cmap('coolwarm', 5)    # PiYG\n",
    "\n",
    "for i in range(cmap.N):\n",
    "    rgba = cmap(i)\n",
    "    # rgb2hex accepts rgb or rgba\n",
    "    print(matplotlib.colors.rgb2hex(rgba))"
   ]
  },
  {
   "cell_type": "code",
   "execution_count": 133,
   "id": "3f7704ea-c6fc-4283-9e6f-f6d789d0fb06",
   "metadata": {
    "tags": []
   },
   "outputs": [
    {
     "data": {
      "text/html": [
       "<div>\n",
       "<style scoped>\n",
       "    .dataframe tbody tr th:only-of-type {\n",
       "        vertical-align: middle;\n",
       "    }\n",
       "\n",
       "    .dataframe tbody tr th {\n",
       "        vertical-align: top;\n",
       "    }\n",
       "\n",
       "    .dataframe thead th {\n",
       "        text-align: right;\n",
       "    }\n",
       "</style>\n",
       "<table border=\"1\" class=\"dataframe\">\n",
       "  <thead>\n",
       "    <tr style=\"text-align: right;\">\n",
       "      <th></th>\n",
       "      <th>January</th>\n",
       "      <th>February</th>\n",
       "      <th>March</th>\n",
       "      <th>April</th>\n",
       "      <th>May</th>\n",
       "      <th>June</th>\n",
       "      <th>July</th>\n",
       "      <th>August</th>\n",
       "      <th>September</th>\n",
       "      <th>October</th>\n",
       "      <th>November</th>\n",
       "      <th>December</th>\n",
       "    </tr>\n",
       "    <tr>\n",
       "      <th>id_day</th>\n",
       "      <th></th>\n",
       "      <th></th>\n",
       "      <th></th>\n",
       "      <th></th>\n",
       "      <th></th>\n",
       "      <th></th>\n",
       "      <th></th>\n",
       "      <th></th>\n",
       "      <th></th>\n",
       "      <th></th>\n",
       "      <th></th>\n",
       "      <th></th>\n",
       "    </tr>\n",
       "  </thead>\n",
       "  <tbody>\n",
       "    <tr>\n",
       "      <th>1</th>\n",
       "      <td>5</td>\n",
       "      <td>4</td>\n",
       "      <td>4</td>\n",
       "      <td>5</td>\n",
       "      <td>5</td>\n",
       "      <td>0</td>\n",
       "      <td>0</td>\n",
       "      <td>0</td>\n",
       "      <td>0</td>\n",
       "      <td>0</td>\n",
       "      <td>0</td>\n",
       "      <td>0</td>\n",
       "    </tr>\n",
       "    <tr>\n",
       "      <th>2</th>\n",
       "      <td>5</td>\n",
       "      <td>5</td>\n",
       "      <td>4</td>\n",
       "      <td>4</td>\n",
       "      <td>5</td>\n",
       "      <td>0</td>\n",
       "      <td>0</td>\n",
       "      <td>0</td>\n",
       "      <td>0</td>\n",
       "      <td>0</td>\n",
       "      <td>0</td>\n",
       "      <td>0</td>\n",
       "    </tr>\n",
       "    <tr>\n",
       "      <th>3</th>\n",
       "      <td>4</td>\n",
       "      <td>4</td>\n",
       "      <td>4</td>\n",
       "      <td>4</td>\n",
       "      <td>4</td>\n",
       "      <td>0</td>\n",
       "      <td>0</td>\n",
       "      <td>0</td>\n",
       "      <td>0</td>\n",
       "      <td>0</td>\n",
       "      <td>0</td>\n",
       "      <td>0</td>\n",
       "    </tr>\n",
       "    <tr>\n",
       "      <th>4</th>\n",
       "      <td>4</td>\n",
       "      <td>4</td>\n",
       "      <td>4</td>\n",
       "      <td>4</td>\n",
       "      <td>4</td>\n",
       "      <td>0</td>\n",
       "      <td>0</td>\n",
       "      <td>0</td>\n",
       "      <td>0</td>\n",
       "      <td>0</td>\n",
       "      <td>0</td>\n",
       "      <td>0</td>\n",
       "    </tr>\n",
       "    <tr>\n",
       "      <th>5</th>\n",
       "      <td>5</td>\n",
       "      <td>4</td>\n",
       "      <td>4</td>\n",
       "      <td>5</td>\n",
       "      <td>0</td>\n",
       "      <td>0</td>\n",
       "      <td>0</td>\n",
       "      <td>0</td>\n",
       "      <td>0</td>\n",
       "      <td>0</td>\n",
       "      <td>0</td>\n",
       "      <td>0</td>\n",
       "    </tr>\n",
       "  </tbody>\n",
       "</table>\n",
       "</div>"
      ],
      "text/plain": [
       "        January  February  March  April  May  June  July  August  September  \\\n",
       "id_day                                                                        \n",
       "1             5         4      4      5    5     0     0       0          0   \n",
       "2             5         5      4      4    5     0     0       0          0   \n",
       "3             4         4      4      4    4     0     0       0          0   \n",
       "4             4         4      4      4    4     0     0       0          0   \n",
       "5             5         4      4      5    0     0     0       0          0   \n",
       "\n",
       "        October  November  December  \n",
       "id_day                               \n",
       "1             0         0         0  \n",
       "2             0         0         0  \n",
       "3             0         0         0  \n",
       "4             0         0         0  \n",
       "5             0         0         0  "
      ]
     },
     "execution_count": 133,
     "metadata": {},
     "output_type": "execute_result"
    }
   ],
   "source": [
    "df_intensity_id = df_intensity.copy()\n",
    "\n",
    "df_intensity_id = (\n",
    "    pd.DataFrame([df_intensity_id[col].map(dict_emotion_intensity_id) for col in df_intensity_id.columns])\n",
    "    .transpose()\n",
    "    .fillna(0)\n",
    "    .astype(int)\n",
    ")\n",
    "\n",
    "df_intensity_id.head(5)"
   ]
  },
  {
   "cell_type": "code",
   "execution_count": 134,
   "id": "f873aa9f-979d-46f0-8863-fa2f605ef369",
   "metadata": {
    "tags": []
   },
   "outputs": [],
   "source": [
    "labels = df_intensity.transpose().replace('0', '').replace('Missing', '')"
   ]
  },
  {
   "cell_type": "code",
   "execution_count": 135,
   "id": "a094a3bd-bc63-40be-8f7c-791af120f11f",
   "metadata": {
    "tags": []
   },
   "outputs": [
    {
     "data": {
      "text/plain": [
       "{0: '#ebebeb',\n",
       " 'Missing': '#ffffff',\n",
       " ':((': '#8baac6',\n",
       " ':(': '#b7d8ec',\n",
       " ':|': '#ebebeb',\n",
       " ':)': '#f7d5e2',\n",
       " ':))': '#de9eb6'}"
      ]
     },
     "execution_count": 135,
     "metadata": {},
     "output_type": "execute_result"
    }
   ],
   "source": [
    "dict_emotion_intensity_color"
   ]
  },
  {
   "cell_type": "code",
   "execution_count": 137,
   "id": "56698f1b-0e11-483b-aa03-d7756cd54104",
   "metadata": {
    "tags": []
   },
   "outputs": [
    {
     "data": {
      "image/png": "[encoded data removed]",
      "text/plain": [
       "<Figure size 1000x1000 with 1 Axes>"
      ]
     },
     "metadata": {},
     "output_type": "display_data"
    }
   ],
   "source": [
    "fig, ax = plt.subplots(figsize=(10, 10))\n",
    "ax = sns.heatmap(\n",
    "    df_intensity_id.transpose(),\n",
    "    cmap=list(dict_emotion_intensity_color.values()),\n",
    "    cbar=False,\n",
    "    linewidths=1.2,\n",
    "    linecolor='white',\n",
    "    square=True,\n",
    "    vmin=0,\n",
    "    #annot=df_intensity_id.transpose(),\n",
    "    annot=labels,\n",
    "    fmt='',\n",
    "    vmax=len(dict_emotion_intensity_color),\n",
    "    xticklabels=1,\n",
    "    ax=ax\n",
    ")\n",
    "\n",
    "ax.set_yticklabels(labels=['J', 'F', 'M', 'A', 'M', 'J', 'J', 'A', 'S', 'O', 'N', 'D'], rotation=0, fontsize=8)\n",
    "ax.set_xticklabels(labels=list(df_emotion_id.index), rotation=0, fontsize=8)\n",
    "ax.set_xlabel('')\n",
    "\n",
    "plt.show()"
   ]
  },
  {
   "cell_type": "markdown",
   "id": "0dc4b77c-37ca-4759-a407-5c4a209185bb",
   "metadata": {},
   "source": [
    "## Research questions\n",
    "- What's the most frequent status change?\n",
    "\n",
    "- For any state, how often I felt `insert_status`?"
   ]
  },
  {
   "cell_type": "code",
   "execution_count": null,
   "id": "ef9dc621-d3a5-45aa-9e56-0278bd7ac284",
   "metadata": {},
   "outputs": [],
   "source": [
    "status = 'Happy'"
   ]
  },
  {
   "cell_type": "raw",
   "id": "54757839-b5b3-427b-a6f3-fe7aedcc2098",
   "metadata": {},
   "source": [
    "Transizioni di stati: quali avvengono?\n",
    "\n",
    "Analisi per singolo stato\n",
    "- quanto mi sono sentita *INSERT STATO*\n",
    "- con quante possibili intensità\n",
    "- per quanti giorni di fila minimo e massimo e in media\n",
    "- in quale mese di più, in quale di meno\n",
    "- correlazione con weekend"
   ]
  },
  {
   "cell_type": "code",
   "execution_count": 65,
   "id": "2bf605c2-6eaf-4d39-8ba7-b710988fbf4a",
   "metadata": {
    "tags": []
   },
   "outputs": [
    {
     "data": {
      "text/html": [
       "<div>\n",
       "<style scoped>\n",
       "    .dataframe tbody tr th:only-of-type {\n",
       "        vertical-align: middle;\n",
       "    }\n",
       "\n",
       "    .dataframe tbody tr th {\n",
       "        vertical-align: top;\n",
       "    }\n",
       "\n",
       "    .dataframe thead th {\n",
       "        text-align: right;\n",
       "    }\n",
       "</style>\n",
       "<table border=\"1\" class=\"dataframe\">\n",
       "  <thead>\n",
       "    <tr style=\"text-align: right;\">\n",
       "      <th></th>\n",
       "      <th>month</th>\n",
       "      <th>emotion</th>\n",
       "    </tr>\n",
       "  </thead>\n",
       "  <tbody>\n",
       "    <tr>\n",
       "      <th>0</th>\n",
       "      <td>January</td>\n",
       "      <td>Happy</td>\n",
       "    </tr>\n",
       "    <tr>\n",
       "      <th>1</th>\n",
       "      <td>January</td>\n",
       "      <td>Happy</td>\n",
       "    </tr>\n",
       "    <tr>\n",
       "      <th>2</th>\n",
       "      <td>January</td>\n",
       "      <td>Scared</td>\n",
       "    </tr>\n",
       "    <tr>\n",
       "      <th>3</th>\n",
       "      <td>January</td>\n",
       "      <td>Scared</td>\n",
       "    </tr>\n",
       "    <tr>\n",
       "      <th>4</th>\n",
       "      <td>January</td>\n",
       "      <td>Happy</td>\n",
       "    </tr>\n",
       "  </tbody>\n",
       "</table>\n",
       "</div>"
      ],
      "text/plain": [
       "     month emotion\n",
       "0  January   Happy\n",
       "1  January   Happy\n",
       "2  January  Scared\n",
       "3  January  Scared\n",
       "4  January   Happy"
      ]
     },
     "execution_count": 65,
     "metadata": {},
     "output_type": "execute_result"
    }
   ],
   "source": [
    "df_all = df_emotion.melt()\n",
    "df_all = df_all[(df_all['value']!='0') & (df_all['value']!='Missing')]\n",
    "df_all.columns = ['month', 'emotion']\n",
    "\n",
    "df_all.head(5)"
   ]
  },
  {
   "cell_type": "code",
   "execution_count": 70,
   "id": "c087bbb2-7942-4a1d-aa07-fb1105d757a0",
   "metadata": {
    "tags": []
   },
   "outputs": [
    {
     "data": {
      "image/png": "[encoded data removed]",
      "text/plain": [
       "<Figure size 640x480 with 1 Axes>"
      ]
     },
     "metadata": {},
     "output_type": "display_data"
    }
   ],
   "source": [
    "fig, ax = plt.subplots(1, 1)\n",
    "\n",
    "plt.show()"
   ]
  },
  {
   "cell_type": "code",
   "execution_count": 66,
   "id": "0b4fc1be-7e32-4e02-96e9-cf29922f731d",
   "metadata": {
    "tags": []
   },
   "outputs": [
    {
     "data": {
      "text/plain": [
       "Happy        44\n",
       "Confident    25\n",
       "Sad          22\n",
       "Scared       15\n",
       "Loved         6\n",
       "Playful       5\n",
       "Angry         1\n",
       "Name: emotion, dtype: int64"
      ]
     },
     "execution_count": 66,
     "metadata": {},
     "output_type": "execute_result"
    }
   ],
   "source": [
    "df_all['emotion'].value_counts()"
   ]
  },
  {
   "cell_type": "code",
   "execution_count": 74,
   "id": "dece7050-c97a-4fb7-9ec5-2eaa57195e35",
   "metadata": {},
   "outputs": [],
   "source": [
    "df_month_emotion = pd.DataFrame(df_all[['month', 'emotion']].value_counts().sort_index()).reset_index()\n",
    "df_month_emotion.columns = ['month', 'emotion', 'count']"
   ]
  },
  {
   "cell_type": "code",
   "execution_count": 79,
   "id": "eea25421-d85e-403d-8f78-4d90ef0b1a0a",
   "metadata": {
    "tags": []
   },
   "outputs": [
    {
     "data": {
      "text/html": [
       "<div>\n",
       "<style scoped>\n",
       "    .dataframe tbody tr th:only-of-type {\n",
       "        vertical-align: middle;\n",
       "    }\n",
       "\n",
       "    .dataframe tbody tr th {\n",
       "        vertical-align: top;\n",
       "    }\n",
       "\n",
       "    .dataframe thead th {\n",
       "        text-align: right;\n",
       "    }\n",
       "</style>\n",
       "<table border=\"1\" class=\"dataframe\">\n",
       "  <thead>\n",
       "    <tr style=\"text-align: right;\">\n",
       "      <th>emotion</th>\n",
       "      <th>Angry</th>\n",
       "      <th>Confident</th>\n",
       "      <th>Happy</th>\n",
       "      <th>Loved</th>\n",
       "      <th>Playful</th>\n",
       "      <th>Sad</th>\n",
       "      <th>Scared</th>\n",
       "    </tr>\n",
       "    <tr>\n",
       "      <th>month</th>\n",
       "      <th></th>\n",
       "      <th></th>\n",
       "      <th></th>\n",
       "      <th></th>\n",
       "      <th></th>\n",
       "      <th></th>\n",
       "      <th></th>\n",
       "    </tr>\n",
       "  </thead>\n",
       "  <tbody>\n",
       "    <tr>\n",
       "      <th>January</th>\n",
       "      <td>1.0</td>\n",
       "      <td>3.0</td>\n",
       "      <td>13.0</td>\n",
       "      <td>3.0</td>\n",
       "      <td>4.0</td>\n",
       "      <td>1.0</td>\n",
       "      <td>6.0</td>\n",
       "    </tr>\n",
       "    <tr>\n",
       "      <th>February</th>\n",
       "      <td>0.0</td>\n",
       "      <td>9.0</td>\n",
       "      <td>10.0</td>\n",
       "      <td>0.0</td>\n",
       "      <td>0.0</td>\n",
       "      <td>8.0</td>\n",
       "      <td>2.0</td>\n",
       "    </tr>\n",
       "    <tr>\n",
       "      <th>March</th>\n",
       "      <td>0.0</td>\n",
       "      <td>5.0</td>\n",
       "      <td>13.0</td>\n",
       "      <td>2.0</td>\n",
       "      <td>0.0</td>\n",
       "      <td>8.0</td>\n",
       "      <td>3.0</td>\n",
       "    </tr>\n",
       "    <tr>\n",
       "      <th>April</th>\n",
       "      <td>0.0</td>\n",
       "      <td>8.0</td>\n",
       "      <td>8.0</td>\n",
       "      <td>1.0</td>\n",
       "      <td>1.0</td>\n",
       "      <td>5.0</td>\n",
       "      <td>4.0</td>\n",
       "    </tr>\n",
       "  </tbody>\n",
       "</table>\n",
       "</div>"
      ],
      "text/plain": [
       "emotion   Angry  Confident  Happy  Loved  Playful  Sad  Scared\n",
       "month                                                         \n",
       "January     1.0        3.0   13.0    3.0      4.0  1.0     6.0\n",
       "February    0.0        9.0   10.0    0.0      0.0  8.0     2.0\n",
       "March       0.0        5.0   13.0    2.0      0.0  8.0     3.0\n",
       "April       0.0        8.0    8.0    1.0      1.0  5.0     4.0"
      ]
     },
     "execution_count": 79,
     "metadata": {},
     "output_type": "execute_result"
    }
   ],
   "source": [
    "df_month_emotion_pivot = pd.pivot_table(df_month_emotion, values='count', index='month', columns='emotion').fillna(0)\n",
    "df_month_emotion_pivot = df_month_emotion_pivot.reindex(['January', 'February', 'March', 'April'])\n",
    "df_month_emotion_pivot"
   ]
  },
  {
   "cell_type": "code",
   "execution_count": null,
   "id": "434db426-188a-4420-8afc-a31ab619d8bd",
   "metadata": {},
   "outputs": [],
   "source": []
  },
  {
   "cell_type": "code",
   "execution_count": null,
   "id": "f74f0d25-68ae-476b-b132-33d5dec3c7e1",
   "metadata": {},
   "outputs": [],
   "source": []
  }
 ],
 "metadata": {
  "kernelspec": {
   "display_name": "streamlit_app_311",
   "language": "python",
   "name": "streamlit_app_311"
  },
  "language_info": {
   "codemirror_mode": {
    "name": "ipython",
    "version": 3
   },
   "file_extension": ".py",
   "mimetype": "text/x-python",
   "name": "python",
   "nbconvert_exporter": "python",
   "pygments_lexer": "ipython3",
   "version": "3.11.9"
  },
  "toc-autonumbering": false
 },
 "nbformat": 4,
 "nbformat_minor": 5
}
